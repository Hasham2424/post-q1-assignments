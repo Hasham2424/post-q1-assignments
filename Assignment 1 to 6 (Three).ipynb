{
 "cells": [
  {
   "cell_type": "markdown",
   "metadata": {},
   "source": [
    "#Basic list exercises\n",
    "#Fill in the code for the functions below. main() is already set up\n",
    "#to call the functions with a few different inputs,\n",
    "#printing 'OK' when each function is correct.\n",
    "#The starter code for each function includes a 'return'\n",
    "#which is just a placeholder for your code.\n",
    "#It's ok if you do not complete all the functions, and there\n",
    "#are some additional functions to try in assignment4_list.py."
   ]
  },
  {
   "cell_type": "markdown",
   "metadata": {},
   "source": [
    "# A. match_ends\n",
    "# Given a list of strings, return the count of the number of\n",
    "# strings where the string length is 2 or more and the first\n",
    "# and last chars of the string are the same.\n",
    "# Note: python does not have a ++ operator, but += works.\n",
    "\n",
    "define a function which identifies the number of strings whose first and last characters are the same. Also make sure that the string lenth is 2 or more"
   ]
  },
  {
   "cell_type": "code",
   "execution_count": 11,
   "metadata": {},
   "outputs": [
    {
     "data": {
      "text/plain": [
       "['asa', 'adada', 'bab']"
      ]
     },
     "execution_count": 11,
     "metadata": {},
     "output_type": "execute_result"
    }
   ],
   "source": [
    "def match_ends(x):\n",
    "    match_ends = []\n",
    "    x = x.split(' ')\n",
    "    for i in x:\n",
    "        if i[0] == i[-1]:\n",
    "            match_ends.append(i)\n",
    "    return match_ends\n",
    "match_ends('hasham baig is asa adada bab')\n"
   ]
  },
  {
   "cell_type": "code",
   "execution_count": 31,
   "metadata": {},
   "outputs": [
    {
     "data": {
      "text/plain": [
       "['asa', 'adada', 'bab']"
      ]
     },
     "execution_count": 31,
     "metadata": {},
     "output_type": "execute_result"
    }
   ],
   "source": [
    "#same function as above but taking multiple inputs\n",
    "def match_ends(x):\n",
    "    match_ends = []\n",
    "    for i in x:\n",
    "        if i[0] == i[-1]:\n",
    "            match_ends.append(i)\n",
    "    return match_ends\n",
    "match_ends(['hasham', 'baig' ,'is','asa', 'adada', 'bab'])"
   ]
  },
  {
   "cell_type": "code",
   "execution_count": null,
   "metadata": {},
   "outputs": [],
   "source": [
    "# B. front_x\n",
    "# Given a list of strings, return a list with the strings\n",
    "# in sorted order, except group all the strings that begin with 'x' first.\n",
    "# e.g. ['mix', 'xyz', 'apple', 'xanadu', 'aardvark'] yields\n",
    "# ['xanadu', 'xyz', 'aardvark', 'apple', 'mix']"
   ]
  },
  {
   "cell_type": "code",
   "execution_count": 33,
   "metadata": {},
   "outputs": [
    {
     "data": {
      "text/plain": [
       "['xanadu', 'xyz', 'aardvark', 'apple', 'mix']"
      ]
     },
     "execution_count": 33,
     "metadata": {},
     "output_type": "execute_result"
    }
   ],
   "source": [
    "def front_x(x):\n",
    "    x_list = []\n",
    "    y_list = []\n",
    "    for i in x:\n",
    "        if i[0] == 'x':\n",
    "            y_list.append(i)\n",
    "            y_list.sort()\n",
    "        else:\n",
    "            x_list.append(i)\n",
    "            x_list.sort()\n",
    "    \n",
    "    return y_list + x_list\n",
    "    \n",
    "front_x(['mix', 'xyz', 'apple', 'xanadu', 'aardvark'])\n",
    "    "
   ]
  },
  {
   "cell_type": "markdown",
   "metadata": {},
   "source": [
    "# C. sort_last\n",
    "# Given a list of non-empty tuples, return a list sorted in increasing\n",
    "# order by the last element in each tuple.\n",
    "# e.g. [(1, 7), (1, 3), (3, 4, 5), (2, 2)] yields\n",
    "# [(2, 2), (1, 3), (3, 4, 5), (1, 7)]"
   ]
  },
  {
   "cell_type": "code",
   "execution_count": 2,
   "metadata": {},
   "outputs": [
    {
     "name": "stdout",
     "output_type": "stream",
     "text": [
      "enter the lenght of list4\n",
      "enter tuple without gap17\n",
      "enter tuple without gap13\n",
      "enter tuple without gap345\n",
      "enter tuple without gap22\n",
      "[('2', '2'), ('1', '3'), ('3', '4', '5'), ('1', '7')]\n"
     ]
    }
   ],
   "source": [
    "def sort_last():\n",
    "    n = int(input('enter the lenght of list'))\n",
    "    lst = []\n",
    "    for i in range(n):\n",
    "        x = tuple(input('enter tuple without gap'))\n",
    "        lst.append(x)\n",
    "    lst.sort(key = lambda lst : lst[-1])    \n",
    "    print(lst)\n",
    "sort_last()"
   ]
  },
  {
   "cell_type": "code",
   "execution_count": 4,
   "metadata": {},
   "outputs": [],
   "source": [
    "def test(got, expected):\n",
    "  if got == expected:\n",
    "    prefix = ' OK '\n",
    "  else:\n",
    "    prefix = '  X '\n",
    "  print('%s got: %s expected: %s' % (prefix, repr(got), repr(expected)))"
   ]
  },
  {
   "cell_type": "code",
   "execution_count": 37,
   "metadata": {},
   "outputs": [
    {
     "name": "stdout",
     "output_type": "stream",
     "text": [
      "match_ends\n",
      "  X  got: ['a', 'b', 'a', ' ', 'x', 'y', 'z', ' ', 'a', 'a', ' ', 'x', ' ', 'b', 'b', 'b'] expected: 3\n",
      "  X  got: ['x', ' ', 'x', 'y', ' ', 'x', 'y', 'x', ' ', 'x', 'x'] expected: 2\n",
      "  X  got: ['a', 'a', 'a', ' ', 'b', 'e', ' ', 'a', 'b', 'c', ' ', 'h', 'e', 'l', 'l', 'o'] expected: 1\n",
      "front_x\n",
      " OK  got: ['xaa', 'xzz', 'axx', 'bbb', 'ccc'] expected: ['xaa', 'xzz', 'axx', 'bbb', 'ccc']\n",
      " OK  got: ['xaa', 'xcc', 'aaa', 'bbb', 'ccc'] expected: ['xaa', 'xcc', 'aaa', 'bbb', 'ccc']\n",
      " OK  got: ['xanadu', 'xyz', 'aardvark', 'apple', 'mix'] expected: ['xanadu', 'xyz', 'aardvark', 'apple', 'mix']\n"
     ]
    }
   ],
   "source": [
    "def main():\n",
    "  print('match_ends')\n",
    "  test(match_ends('aba xyz aa x bbb'), 3)\n",
    "  test(match_ends('x xy xyx xx'), 2)\n",
    "  test(match_ends('aaa be abc hello'), 1)\n",
    "    \n",
    "  print('front_x')\n",
    "  test(front_x(['bbb', 'ccc', 'axx', 'xzz', 'xaa']),\n",
    "       ['xaa', 'xzz', 'axx', 'bbb', 'ccc'])\n",
    "  test(front_x(['ccc', 'bbb', 'aaa', 'xcc', 'xaa']),\n",
    "       ['xaa', 'xcc', 'aaa', 'bbb', 'ccc'])\n",
    "  test(front_x(['mix', 'xyz', 'apple', 'xanadu', 'aardvark']),\n",
    "       ['xanadu', 'xyz', 'aardvark', 'apple', 'mix'])\n",
    "\n",
    "main()"
   ]
  },
  {
   "cell_type": "code",
   "execution_count": null,
   "metadata": {},
   "outputs": [],
   "source": []
  }
 ],
 "metadata": {
  "kernelspec": {
   "display_name": "Python 3",
   "language": "python",
   "name": "python3"
  },
  "language_info": {
   "codemirror_mode": {
    "name": "ipython",
    "version": 3
   },
   "file_extension": ".py",
   "mimetype": "text/x-python",
   "name": "python",
   "nbconvert_exporter": "python",
   "pygments_lexer": "ipython3",
   "version": "3.7.4"
  }
 },
 "nbformat": 4,
 "nbformat_minor": 2
}
