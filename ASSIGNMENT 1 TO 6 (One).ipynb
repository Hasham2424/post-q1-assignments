{
 "cells": [
  {
   "cell_type": "markdown",
   "metadata": {},
   "source": [
    "Given an int count of a number of donuts, return a string of the form 'Number of donuts: <count>', where <count> is the number\n",
    "passed in. However, if the count is 10 or more, then use the word 'many' instead of the actual count.\n",
    "So donuts(5) returns 'Number of donuts: 5'\n",
    "and donuts(23) returns 'Number of donuts: many'"
   ]
  },
  {
   "cell_type": "code",
   "execution_count": 107,
   "metadata": {},
   "outputs": [
    {
     "name": "stdout",
     "output_type": "stream",
     "text": [
      "Number of donuts are many\n"
     ]
    }
   ],
   "source": [
    "def count(x):\n",
    "    if x >= 10:\n",
    "        return 'Number of donuts are many'\n",
    "    if x < 10:\n",
    "        return 'Number of donuts are ' + str(x)\n",
    "print(count(11))"
   ]
  },
  {
   "cell_type": "markdown",
   "metadata": {},
   "source": [
    "Given a string s, return a string made of the first 2 and the last 2 chars of the original string,\n",
    "so 'spring' yields 'spng'. However, if the string length\n",
    "is less than 2, return instead the empty string."
   ]
  },
  {
   "cell_type": "code",
   "execution_count": 109,
   "metadata": {},
   "outputs": [
    {
     "data": {
      "text/plain": [
       "'haam'"
      ]
     },
     "execution_count": 109,
     "metadata": {},
     "output_type": "execute_result"
    }
   ],
   "source": [
    "def ends(x):\n",
    "    return x[0:2] + x[-2:]\n",
    "ends('hasham')"
   ]
  },
  {
   "cell_type": "markdown",
   "metadata": {},
   "source": [
    "C. fix_start\n",
    "Given a string s, return a string\n",
    "where all occurences of its first char have\n",
    "been changed to '*', except do not change\n",
    "the first char itself.\n",
    "e.g. 'babble' yields 'ba**le'\n",
    "Assume that the string is length 1 or more.\n",
    "Hint: s.replace(stra, strb) returns a version of string s\n",
    "where all instances of stra have been replaced by strb.c"
   ]
  },
  {
   "cell_type": "code",
   "execution_count": 54,
   "metadata": {},
   "outputs": [
    {
     "data": {
      "text/plain": [
       "'has*am***'"
      ]
     },
     "execution_count": 54,
     "metadata": {},
     "output_type": "execute_result"
    }
   ],
   "source": [
    "def change(x):\n",
    "    y = x[0]\n",
    "    a = x.replace(y,'*')\n",
    "    b = a.replace(a[0],y,1)\n",
    "    return(b)\n",
    "\n",
    "change('hashamhhh')"
   ]
  },
  {
   "cell_type": "markdown",
   "metadata": {},
   "source": [
    "Given strings a and b, return a single string with a and b separated by a space '<a> <b>', except swap the first 2 chars of each string.\n",
    "e.g.\n",
    " 'mix', pod' -> 'pox mid'\n",
    " 'dog', 'dinner' -> 'dig donner'\n",
    "Assume a and b are length 2 or more."
   ]
  },
  {
   "cell_type": "code",
   "execution_count": 101,
   "metadata": {},
   "outputs": [
    {
     "data": {
      "text/plain": [
       "'bbsham haig'"
      ]
     },
     "execution_count": 101,
     "metadata": {},
     "output_type": "execute_result"
    }
   ],
   "source": [
    "def swap(x,y):\n",
    "    first = x[0:2]\n",
    "    second = y[0:2]\n",
    "    x = second + x[2:]\n",
    "    y = first + y[2:]\n",
    "    return str(x + ' ' + y) \n",
    "\n",
    "swap('hasham','bbig')\n",
    "    "
   ]
  },
  {
   "cell_type": "markdown",
   "metadata": {},
   "source": [
    "Using the above functions together. Function test is newly defined"
   ]
  },
  {
   "cell_type": "code",
   "execution_count": 110,
   "metadata": {},
   "outputs": [
    {
     "name": "stdout",
     "output_type": "stream",
     "text": [
      "donuts\n",
      " OK  got: 'Number of donuts are 4' expected: 'Number of donuts are 4'\n",
      "  X  got: 'Number of donuts are 9' expected: 'Number of donuts 9'\n",
      " OK  got: 'Number of donuts are many' expected: 'Number of donuts are many'\n",
      " OK  got: 'Number of donuts are many' expected: 'Number of donuts are many'\n",
      "both_ends\n",
      " OK  got: 'spng' expected: 'spng'\n",
      " OK  got: 'Helo' expected: 'Helo'\n",
      "  X  got: 'aa' expected: ''\n",
      " OK  got: 'xyyz' expected: 'xyyz'\n",
      "fix_start\n",
      " OK  got: 'ba**le' expected: 'ba**le'\n",
      " OK  got: 'a*rdv*rk' expected: 'a*rdv*rk'\n",
      " OK  got: 'goo*le' expected: 'goo*le'\n",
      " OK  got: 'donut' expected: 'donut'\n",
      "mix_up\n",
      " OK  got: 'pox mid' expected: 'pox mid'\n",
      " OK  got: 'dig donner' expected: 'dig donner'\n",
      " OK  got: 'spash gnort' expected: 'spash gnort'\n",
      " OK  got: 'fizzy perm' expected: 'fizzy perm'\n"
     ]
    }
   ],
   "source": [
    "def test(got, expected):\n",
    "    if got == expected:\n",
    "        prefix = ' OK '\n",
    "    else:\n",
    "            prefix = '  X '\n",
    "    print('%s got: %s expected: %s' % (prefix, repr(got), repr(expected)))\n",
    "  \n",
    "def main():\n",
    "    print('donuts')\n",
    "    test(count(4), 'Number of donuts are 4')\n",
    "    test(count(9), 'Number of donuts 9')\n",
    "    test(count(10), 'Number of donuts are many')\n",
    "    test(count(99), 'Number of donuts are many')\n",
    "    \n",
    "    print('both_ends')\n",
    "    test(ends('spring'), 'spng')\n",
    "    test(ends('Hello'), 'Helo')\n",
    "    test(ends('a'), '')\n",
    "    test(ends('xyz'), 'xyyz')\n",
    "    \n",
    "    print('fix_start')\n",
    "    test(change('babble'), 'ba**le')\n",
    "    test(change('aardvark'), 'a*rdv*rk')\n",
    "    test(change('google'), 'goo*le')\n",
    "    test(change('donut'), 'donut')\n",
    "    \n",
    "    print('mix_up')\n",
    "    test(swap('mix', 'pod'), 'pox mid')\n",
    "    test(swap('dog', 'dinner'), 'dig donner')\n",
    "    test(swap('gnash', 'sport'), 'spash gnort')\n",
    "    test(swap('pezzy', 'firm'), 'fizzy perm')\n",
    "\n",
    "    \n",
    "if __name__ == '__main__':\n",
    "    main()"
   ]
  },
  {
   "cell_type": "code",
   "execution_count": null,
   "metadata": {},
   "outputs": [],
   "source": []
  }
 ],
 "metadata": {
  "kernelspec": {
   "display_name": "Python 3",
   "language": "python",
   "name": "python3"
  },
  "language_info": {
   "codemirror_mode": {
    "name": "ipython",
    "version": 3
   },
   "file_extension": ".py",
   "mimetype": "text/x-python",
   "name": "python",
   "nbconvert_exporter": "python",
   "pygments_lexer": "ipython3",
   "version": "3.7.4"
  }
 },
 "nbformat": 4,
 "nbformat_minor": 2
}
