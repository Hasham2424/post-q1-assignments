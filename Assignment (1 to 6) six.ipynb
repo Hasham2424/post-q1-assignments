{
 "cells": [
  {
   "cell_type": "code",
   "execution_count": null,
   "metadata": {},
   "outputs": [],
   "source": [
    "\"\"\"Mimic pyquick exercise -- optional extra exercise.\n",
    "Python Class\n",
    "\n",
    "Read in the file specified on the command line.\n",
    "Do a simple split() on whitespace to obtain all the words in the file.\n",
    "Rather than read the file line by line, it's easier to read\n",
    "it into one giant string and split it once.\n",
    "\n",
    "Build a \"mimic\" dict that maps each word that appears in the file\n",
    "to a list of all the words that immediately follow that word in the file.\n",
    "The list of words can be be in any order and should include\n",
    "duplicates. So for example the key \"and\" might have the list\n",
    "[\"then\", \"best\", \"then\", \"after\", ...] listing\n",
    "all the words which came after \"and\" in the text.\n",
    "We'll say that the empty string is what comes before\n",
    "the first word in the file.\n",
    "\n",
    "With the mimic dict, it's fairly easy to emit random\n",
    "text that mimics the original. Print a word, then look\n",
    "up what words might come next and pick one at random as\n",
    "the next work.\n",
    "Use the empty string as the first word to prime things.\n",
    "If we ever get stuck with a word that is not in the dict,\n",
    "go back to the empty string to keep things moving.\n",
    "\n",
    "Note: the standard python module 'random' includes a\n",
    "random.choice(list) method which picks a random element\n",
    "from a non-empty list.\n",
    "\n",
    "For fun, feed your program to itself as input.\n",
    "Could work on getting it to put in linebreaks around 70\n",
    "columns, so the output looks better.\n",
    "\n",
    "\"\"\"\n",
    "\n",
    "import random\n",
    "import sys\n",
    "\n",
    "\n",
    "def mimic_dict(filename):\n",
    "    \"\"\"Returns mimic dict mapping each word to list of words which follow it.\"\"\"\n",
    "    # +++your code here+++\n",
    "    # LAB(begin solution)\n",
    "    mimic_dict = {}\n",
    "    f = open(filename, 'r')\n",
    "    text = f.read()\n",
    "    f.close()\n",
    "    words = text.split()\n",
    "    prev = ''\n",
    "    for word in words:\n",
    "        if not prev in mimic_dict:\n",
    "        mimic_dict[prev] = [word]\n",
    "    else:\n",
    "        mimic_dict[prev].append(word)\n",
    "    # Could write as: mimic_dict[prev] = mimic_dict.get(prev, []) + [word]\n",
    "    # It's one line, but not totally satisfying.\n",
    "    prev = word\n",
    "    return mimic_dict\n",
    "  # LAB(replace solution)\n",
    "  # return\n",
    "  # LAB(end solution)\n",
    "\n",
    "\n",
    "def print_mimic(mimic_dict, word):\n",
    "  \"\"\"Given mimic dict and start word, prints 200 random words.\"\"\"\n",
    "  # +++your code here+++\n",
    "  return\n",
    "\n",
    "\n",
    "# Provided main(), calls mimic_dict() and mimic()\n",
    "def main():\n",
    "  if len(sys.argv) != 2:\n",
    "    print 'usage: ./mimic.py file-to-read'\n",
    "    sys.exit(1)\n",
    "\n",
    "  dict = mimic_dict(sys.argv[1])\n",
    "  print_mimic(dict, '')"
   ]
  },
  {
   "cell_type": "markdown",
   "metadata": {},
   "source": [
    "Build a \"mimic\" dict that maps each word that appears in the file\n",
    "to a list of all the words that immediately follow that word in the file.\n",
    "The list of words can be be in any order and should include\n",
    "duplicates. So for example the key \"and\" might have the list\n",
    "[\"then\", \"best\", \"then\", \"after\", ...] listing\n",
    "all the words which came after \"and\" in the text.\n",
    "We'll say that the empty string is what comes before\n",
    "the first word in the file.\n"
   ]
  },
  {
   "cell_type": "code",
   "execution_count": 42,
   "metadata": {},
   "outputs": [
    {
     "name": "stdout",
     "output_type": "stream",
     "text": [
      "{'we': ['are', 'should', 'are', 'need', 'are', 'used'], 'are': ['not', 'not', 'not'], 'not': ['what', 'what', 'what'], 'what': ['we', 'we', 'we'], 'should': ['be'], 'be': ['we', 'but', 'football'], 'need': ['to'], 'to': ['be', 'be'], 'but': ['at'], 'at': ['least'], 'least': ['we'], 'used': ['to']}\n"
     ]
    }
   ],
   "source": [
    "def mimic_dict(filename):\n",
    "    with open (filename, 'r+') as x:\n",
    "        x = x.read()\n",
    "        x = x.split()\n",
    "        dic = {}\n",
    "        for i in range(len(x)-1):  #here if we use for i in x, then it will return a error saying 'out of range'. Therefore,\n",
    "            if x[i] not in dic:    #we have used range and len with -1 to exclude the last iterable i.e 'coach'\n",
    "                dic[x[i]] = [x[i+1]]   #here we used square brackets outside because in the else below we have to append \n",
    "            else:                      #and only lists can be appended to hence []\n",
    "                dic[x[i]].append(x[i+1])\n",
    "                q = dict(dic)\n",
    "        return q\n",
    "            \n",
    "d = mimic_dict('small.txt')\n",
    "print(d)"
   ]
  },
  {
   "cell_type": "markdown",
   "metadata": {},
   "source": [
    "With the mimic dict, it's fairly easy to emit random\n",
    "text that mimics the original. Print a word, then look\n",
    "up what words might come next and pick one at random as\n",
    "the next work.\n",
    "Use the empty string as the first word to prime things.\n",
    "If we ever get stuck with a word that is not in the dict,\n",
    "go back to the empty string to keep things moving."
   ]
  },
  {
   "cell_type": "code",
   "execution_count": 45,
   "metadata": {},
   "outputs": [
    {
     "data": {
      "text/plain": [
       "[('to', ['be', 'be']), ('least', ['we'])]"
      ]
     },
     "execution_count": 45,
     "metadata": {},
     "output_type": "execute_result"
    }
   ],
   "source": [
    "import random\n",
    "#d = {'VENEZUELA':'CARACAS', 'CANADA':'OTTAWA', 'PAKISTAN':'RAWALPINDI','A':'X', 'B':'2','C':'5'}\n",
    "def print_mimic(x): \n",
    "    l = []\n",
    "    for i in range(2):\n",
    "        word = random.choice(list(x.items()))\n",
    "        l.append(word)\n",
    "\n",
    "    return l      \n",
    "print_mimic(d)"
   ]
  },
  {
   "cell_type": "code",
   "execution_count": 90,
   "metadata": {},
   "outputs": [
    {
     "name": "stdout",
     "output_type": "stream",
     "text": [
      "we are\n",
      "are not\n",
      "not what\n",
      "what we\n",
      "we are\n",
      "should be\n",
      "be we\n",
      "we are\n",
      "are not\n",
      "not what\n",
      "what we\n",
      "we are\n",
      "need to\n",
      "to be\n",
      "be we\n",
      "but at\n",
      "at least\n",
      "least we\n",
      "we are\n",
      "are not\n",
      "not what\n",
      "what we\n",
      "we are\n",
      "used to\n",
      "to be\n",
      "be we\n",
      "football coach\n",
      "End of line\n"
     ]
    }
   ],
   "source": [
    "#python program to print every proceeding element\n",
    "\n",
    "def mimic_dict(filename):\n",
    "    dictionary = {}\n",
    "    with open (filename, 'r+') as x:\n",
    "        lst = []\n",
    "        for i in x:\n",
    "            lst.append(i)\n",
    "        string = ''\n",
    "        for n in lst:\n",
    "            string = string + n\n",
    "        lst_new = string.split()\n",
    "        for i in lst_new:\n",
    "            try:\n",
    "                print(i + ' '  + lst_new[lst_new.index(i)+1])\n",
    "            except IndexError:\n",
    "                print('End of line')\n",
    "        #for v,i in enumerate(lst_new):\n",
    "            #dictionary[i] = v\n",
    "    #return dictionary\n",
    "mimic_dict('small.txt')"
   ]
  },
  {
   "cell_type": "code",
   "execution_count": 45,
   "metadata": {},
   "outputs": [
    {
     "name": "stdout",
     "output_type": "stream",
     "text": [
      "{'I': 1, 'n': 3, 'd': 1, 'i': 2, 'a': 2, 'P': 1, 'y': 1, 't': 2, 'h': 1, 'o': 1, 's': 1}\n"
     ]
    }
   ],
   "source": [
    "#python program to count the occurence of each element\n",
    "\n",
    "names = 'IndianPythonista'\n",
    "d = {}\n",
    "\n",
    "for c in names:\n",
    "    if c not in d:\n",
    "        d[c] = 1\n",
    "    else:\n",
    "        d[c] += 1\n",
    "print(d)"
   ]
  },
  {
   "cell_type": "code",
   "execution_count": 91,
   "metadata": {},
   "outputs": [
    {
     "name": "stdout",
     "output_type": "stream",
     "text": [
      "{'I': 1, 'n': 3, 'd': 1, 'i': 2, 'a': 2, 'P': 1, 'y': 1, 't': 2, 'h': 1, 'o': 1, 's': 1}\n"
     ]
    }
   ],
   "source": [
    "#same as above\n",
    "\n",
    "names = 'IndianPythonista'\n",
    "d = {}\n",
    "for i in names:\n",
    "    d[i] = names.count(i)\n",
    "print(d)"
   ]
  },
  {
   "cell_type": "code",
   "execution_count": 94,
   "metadata": {},
   "outputs": [
    {
     "name": "stdout",
     "output_type": "stream",
     "text": [
      "defaultdict(<class 'int'>, {'I': 3, 'am': 1, 'trying': 1, 'to': 1, 'repeat': 1, 'in': 1, 'this': 1, 'sentence': 1})\n"
     ]
    }
   ],
   "source": [
    "#same as above\n",
    "\n",
    "text = 'I am trying to repeat I in this sentence I'\n",
    "from collections import defaultdict\n",
    "word_count_dict = defaultdict(int)\n",
    "for w in text.split(\" \"):\n",
    "    word_count_dict[w]+=1\n",
    "print(word_count_dict)"
   ]
  },
  {
   "cell_type": "code",
   "execution_count": null,
   "metadata": {},
   "outputs": [],
   "source": [
    "\n",
    "#same as above\n",
    "\n",
    "names_list = 'Mike John Mike Anna Mike John John Mike Mike Britney Smith Anna Smith'.split()\n",
    "print(names_list)\n",
    "count = defaultdict(int)\n",
    "for i in names_list:\n",
    "    count[i] = count[i]+1\n",
    "print(count)\n"
   ]
  },
  {
   "cell_type": "code",
   "execution_count": 33,
   "metadata": {},
   "outputs": [
    {
     "name": "stdout",
     "output_type": "stream",
     "text": [
      "defaultdict(<class 'list'>, {'a': ['1', '3'], 'b': ['2']})\n"
     ]
    }
   ],
   "source": [
    "#python program to add repeating values to a key, provided that the given data is a list of tupples\n",
    "\n",
    "from collections import defaultdict\n",
    "city_list = [('a','1'),('b','2'),('a','3')]\n",
    "#city_list = [('TX','Austin'), ('TX','Houston'), ('NY','Albany'), ('NY', 'Syracuse'), ('NY', 'Buffalo'), ('NY', 'Rochester'), ('TX', 'Dallas'), ('CA','Sacramento'), ('CA', 'Palo Alto'), ('GA', 'Atlanta')]\n",
    "cities_by_state = defaultdict(list)\n",
    "for state, city in city_list:\n",
    "    cities_by_state[state].append(city)\n",
    "print(cities_by_state)"
   ]
  },
  {
   "cell_type": "code",
   "execution_count": null,
   "metadata": {},
   "outputs": [],
   "source": []
  }
 ],
 "metadata": {
  "kernelspec": {
   "display_name": "Python 3",
   "language": "python",
   "name": "python3"
  },
  "language_info": {
   "codemirror_mode": {
    "name": "ipython",
    "version": 3
   },
   "file_extension": ".py",
   "mimetype": "text/x-python",
   "name": "python",
   "nbconvert_exporter": "python",
   "pygments_lexer": "ipython3",
   "version": "3.7.4"
  }
 },
 "nbformat": 4,
 "nbformat_minor": 2
}
