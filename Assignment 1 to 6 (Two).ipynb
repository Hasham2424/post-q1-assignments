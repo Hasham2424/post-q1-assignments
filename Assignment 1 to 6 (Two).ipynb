{
 "cells": [
  {
   "cell_type": "markdown",
   "metadata": {},
   "source": [
    " D. verbing\n",
    "#Given a string, if its length is at least 3,\n",
    "#add 'ing' to its end.\n",
    "#Unless it already ends in 'ing', in which case\n",
    "#add 'ly' instead.\n",
    "#If the string length is less than 3, leave it unchanged.\n",
    "#Return the resulting string."
   ]
  },
  {
   "cell_type": "code",
   "execution_count": 16,
   "metadata": {},
   "outputs": [
    {
     "data": {
      "text/plain": [
       "'hashaming'"
      ]
     },
     "execution_count": 16,
     "metadata": {},
     "output_type": "execute_result"
    }
   ],
   "source": [
    "def verbing(x):\n",
    "    if len(x) >= 3:\n",
    "        if x[-3:] != 'ing':\n",
    "            return x + 'ing'\n",
    "        if x[-3:] == 'ing':\n",
    "            return x + 'ly'\n",
    "verbing('hasham')"
   ]
  },
  {
   "cell_type": "markdown",
   "metadata": {},
   "source": [
    "#E. not_bad\n",
    "#Given a string, find the first appearance of the\n",
    "#substring 'not' and 'bad'. If the 'bad' follows\n",
    "#the 'not', replace the whole 'not'...'bad' substring\n",
    "#with 'good'.\n",
    "#Return the resulting string.\n",
    "#So 'This dinner is not that bad!' yields:\n",
    "#This dinner is good!"
   ]
  },
  {
   "cell_type": "code",
   "execution_count": 18,
   "metadata": {},
   "outputs": [
    {
     "data": {
      "text/plain": [
       "'The dinner is good'"
      ]
     },
     "execution_count": 18,
     "metadata": {},
     "output_type": "execute_result"
    }
   ],
   "source": [
    "def not_bad(x):\n",
    "    a = x.find('not')\n",
    "    b = x.find('bad')\n",
    "    c = x[a:]\n",
    "    if b > a:\n",
    "        y = x.replace(c,'good')\n",
    "        return y\n",
    "not_bad('The dinner is not that bad')"
   ]
  },
  {
   "cell_type": "markdown",
   "metadata": {},
   "source": [
    "#F. front_back\n",
    "#Consider dividing a string into two halves.\n",
    "#If the length is even, the front and back halves are the same length.\n",
    "#If the length is odd, we'll say that the extra char goes in the front half.\n",
    "#e.g. 'abcde', the front half is 'abc', the back half 'de'.\n",
    "#Given 2 strings, a and b, return a string of the form\n",
    "#a-front + b-front + a-back + b-back"
   ]
  },
  {
   "cell_type": "code",
   "execution_count": 21,
   "metadata": {},
   "outputs": [
    {
     "data": {
      "text/plain": [
       "'1234abcde567fghi'"
      ]
     },
     "execution_count": 21,
     "metadata": {},
     "output_type": "execute_result"
    }
   ],
   "source": [
    "def front_back(x,y):\n",
    "    a = len(x)//2\n",
    "    b = len(y)//2\n",
    "    if len(x)%2 == 0:\n",
    "        x_front = x[:a]\n",
    "    if len(x)%2 != 0:\n",
    "        a = a + 1\n",
    "        x_front = x[:a]\n",
    "    if len(y)%2 == 0:\n",
    "        y_front = y[:b]\n",
    "    if len(y)%2 != 0:\n",
    "        b = b + 1\n",
    "        y_front = y[:b]\n",
    "    #return x_front, y_front\n",
    "    first_half = x_front + y_front\n",
    "    second_half = x[a:] + y[b:]\n",
    "    return first_half + second_half\n",
    "front_back('1234567','abcdefghi')"
   ]
  },
  {
   "cell_type": "code",
   "execution_count": 6,
   "metadata": {},
   "outputs": [
    {
     "data": {
      "text/plain": [
       "'1234abcde567fghi'"
      ]
     },
     "execution_count": 6,
     "metadata": {},
     "output_type": "execute_result"
    }
   ],
   "source": [
    "def front_back(a, b):\n",
    "  alength = len(a)\n",
    "  blength = len(b)\n",
    "\n",
    "  if alength % 2 == 0:\n",
    "    aindex = alength // 2\n",
    "  else:\n",
    "    aindex = (alength // 2) + 1\n",
    "\n",
    "  if blength % 2 == 0:\n",
    "    bindex = blength // 2\n",
    "  else:\n",
    "    bindex = (blength // 2) + 1\n",
    "\n",
    "  afront = a[0:aindex]\n",
    "  aback = a[aindex:]\n",
    "\n",
    "  bfront = b[0:bindex]\n",
    "  bback = b[bindex:]\n",
    "\n",
    "  return afront + bfront + aback + bback\n",
    "\n",
    "front_back('1234567','abcdefghi')"
   ]
  },
  {
   "cell_type": "markdown",
   "metadata": {},
   "source": [
    "using the above functions in a single code"
   ]
  },
  {
   "cell_type": "code",
   "execution_count": 14,
   "metadata": {},
   "outputs": [],
   "source": [
    "def test(got, expected):\n",
    "  if got == expected:\n",
    "    prefix = ' OK '\n",
    "  else:\n",
    "    prefix = '  X '\n",
    "  print('%s got: %s expected: %s' % (prefix, repr(got), repr(expected)))"
   ]
  },
  {
   "cell_type": "code",
   "execution_count": 22,
   "metadata": {},
   "outputs": [
    {
     "name": "stdout",
     "output_type": "stream",
     "text": [
      "verbing\n",
      " OK  got: 'hailing' expected: 'hailing'\n",
      " OK  got: 'swimingly' expected: 'swimingly'\n",
      "  X  got: None expected: 'do'\n",
      "not_bad\n",
      " OK  got: 'This movie is good' expected: 'This movie is good'\n",
      "  X  got: 'This dinner is good' expected: 'This dinner is good!'\n",
      "  X  got: None expected: 'This tea is not hot'\n",
      "  X  got: None expected: \"It's bad yet not\"\n",
      "front_back\n",
      " OK  got: 'abxcdy' expected: 'abxcdy'\n",
      " OK  got: 'abcxydez' expected: 'abcxydez'\n",
      " OK  got: 'KitDontenut' expected: 'KitDontenut'\n"
     ]
    }
   ],
   "source": [
    "def main():\n",
    "  print('verbing')\n",
    "  test(verbing('hail'), 'hailing')\n",
    "  test(verbing('swiming'), 'swimingly')\n",
    "  test(verbing('do'), 'do')\n",
    "    \n",
    "  print('not_bad')\n",
    "  test(not_bad('This movie is not so bad'), 'This movie is good')\n",
    "  test(not_bad('This dinner is not that bad!'), 'This dinner is good!')\n",
    "  test(not_bad('This tea is not hot'), 'This tea is not hot')\n",
    "  test(not_bad(\"It's bad yet not\"), \"It's bad yet not\")  \n",
    "\n",
    "  print('front_back')\n",
    "  test(front_back('abcd', 'xy'), 'abxcdy')\n",
    "  test(front_back('abcde', 'xyz'), 'abcxydez')\n",
    "  test(front_back('Kitten', 'Donut'), 'KitDontenut')\n",
    "\n",
    "main()"
   ]
  }
 ],
 "metadata": {
  "kernelspec": {
   "display_name": "Python 3",
   "language": "python",
   "name": "python3"
  },
  "language_info": {
   "codemirror_mode": {
    "name": "ipython",
    "version": 3
   },
   "file_extension": ".py",
   "mimetype": "text/x-python",
   "name": "python",
   "nbconvert_exporter": "python",
   "pygments_lexer": "ipython3",
   "version": "3.7.4"
  }
 },
 "nbformat": 4,
 "nbformat_minor": 2
}
