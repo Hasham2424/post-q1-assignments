{
 "cells": [
  {
   "cell_type": "markdown",
   "metadata": {},
   "source": [
    "This is an example for program\n",
    "\n",
    "We count 35 heads and 94 legs among the chickens and rabbits in a\n",
    "farm. How many rabbits and how many chickens do we have?\n",
    "\n",
    "Write a python program to input heads count and legs count and print the count of rabbits and count of chickens.\n",
    "\n",
    "Hint:\n",
    "Use for loop to iterate all possible solutions."
   ]
  },
  {
   "cell_type": "code",
   "execution_count": null,
   "metadata": {},
   "outputs": [],
   "source": [
    "heads = int(input('enter the number of heads'))\n",
    "legs = int(input('enter the number of legs'))\n",
    "rabbits = []\n",
    "chickens = []\n",
    "\n",
    "for i in range(legs+1):\n",
    "    if i%4 == 0:\n",
    "        rabbits.append(i)\n",
    "for i in range(legs+1):\n",
    "    if i%2 == 0:\n",
    "        chickens.append(i)\n",
    "print(chickens)\n",
    "print(rabbits)\n",
    "    \n",
    "for i in rabbits:\n",
    "    for n in chickens:\n",
    "        if i+n == legs:\n",
    "            print(i,n)"
   ]
  },
  {
   "cell_type": "code",
   "execution_count": 17,
   "metadata": {},
   "outputs": [
    {
     "data": {
      "text/plain": [
       "(23, 12)"
      ]
     },
     "execution_count": 17,
     "metadata": {},
     "output_type": "execute_result"
    }
   ],
   "source": [
    "def solve(numheads,numlegs):\n",
    "\n",
    "    ns='No solutions!'\n",
    "    for chickens in range(numheads+1):\n",
    "        rabbits=numheads-chickens              #\n",
    "        if (2*chickens)+(4*rabbits)==numlegs:\n",
    "            return chickens,rabbits\n",
    "    return ns,ns\n",
    "solve(35,94)"
   ]
  },
  {
   "cell_type": "markdown",
   "metadata": {},
   "source": [
    "Please write a program which accepts a string from console and print\n",
    "the characters that have even indexes.\n",
    "\n",
    "Example:\n",
    "If the following string is given as input to the program:\n",
    "H1e2l3l4o5w6o7r8l9d\n",
    "\n",
    "Then, the output of the program should be:\n",
    "Helloworld"
   ]
  },
  {
   "cell_type": "code",
   "execution_count": 4,
   "metadata": {},
   "outputs": [
    {
     "name": "stdout",
     "output_type": "stream",
     "text": [
      "enterH1e2l3l4o5w6o7r8l9d\n",
      "Helloworld"
     ]
    }
   ],
   "source": [
    "user = input('enter')\n",
    "for i in range(len(user)):\n",
    "    if i%2 == 0:\n",
    "        print(user[i], end = '')"
   ]
  },
  {
   "cell_type": "markdown",
   "metadata": {},
   "source": [
    "Please write a program which accepts a string from console and print\n",
    "it in reverse order."
   ]
  },
  {
   "cell_type": "code",
   "execution_count": 12,
   "metadata": {},
   "outputs": [
    {
     "name": "stdout",
     "output_type": "stream",
     "text": [
      "enter stringasd\n",
      "d\n",
      "s\n",
      "a\n"
     ]
    }
   ],
   "source": [
    "user = input('enter string')\n",
    "for i in user[::-1]:\n",
    "    print(i)"
   ]
  },
  {
   "cell_type": "code",
   "execution_count": 14,
   "metadata": {},
   "outputs": [
    {
     "name": "stdout",
     "output_type": "stream",
     "text": [
      "d\n",
      "s\n",
      "a\n"
     ]
    }
   ],
   "source": [
    "def reverse(string):\n",
    "    for i in string[::-1]:\n",
    "        print(i)\n",
    "reverse('asd')"
   ]
  },
  {
   "cell_type": "markdown",
   "metadata": {},
   "source": [
    "Please write a program which count and print the numbers of each\n",
    "character in a string input by console.\n",
    "\n",
    "Example:\n",
    "If the following string is given as input to the program:\n",
    "abcdefgabc\n",
    "Then, the output of the program should be:\n",
    "a,2\n",
    "c,2\n",
    "b,2\n",
    "e,1\n",
    "d,1\n",
    "g,1\n",
    "f,1"
   ]
  },
  {
   "cell_type": "code",
   "execution_count": 21,
   "metadata": {},
   "outputs": [
    {
     "name": "stdout",
     "output_type": "stream",
     "text": [
      "enter stringasd\n",
      "{'a': 1, 's': 1, 'd': 1}\n"
     ]
    }
   ],
   "source": [
    "user = input('enter string')\n",
    "dictionary = {}\n",
    "for i in user:\n",
    "    dictionary[i] = user.count(i)\n",
    "    \n",
    "print(dictionary)"
   ]
  },
  {
   "cell_type": "markdown",
   "metadata": {},
   "source": [
    "Define a class named Shape and its subclass Square. The Square class\n",
    "has an init function which takes a length as argument. Both classes\n",
    "have a area function which can print the area of the shape where\n",
    "Shape's area is 0 by default.\n",
    "\n",
    "The purpose here is to learn method over riding."
   ]
  },
  {
   "cell_type": "code",
   "execution_count": 48,
   "metadata": {},
   "outputs": [
    {
     "data": {
      "text/plain": [
       "9"
      ]
     },
     "execution_count": 48,
     "metadata": {},
     "output_type": "execute_result"
    }
   ],
   "source": [
    "class shape():\n",
    "    def area():\n",
    "        return 0\n",
    "    \n",
    "class square(shape):\n",
    "    def __init__(self, length):\n",
    "        self.length = length\n",
    "    def area(self):\n",
    "        return (self.length*self.length)\n",
    "x = square(3)\n",
    "x.area()\n",
    "\n",
    "\n",
    "    "
   ]
  },
  {
   "cell_type": "markdown",
   "metadata": {},
   "source": [
    "Write a function to compute 5/0 and use try/except to catch the\n",
    "exceptions.\n",
    "Hints:\n",
    "Use try/except to catch exceptions."
   ]
  },
  {
   "cell_type": "code",
   "execution_count": 49,
   "metadata": {},
   "outputs": [
    {
     "name": "stdout",
     "output_type": "stream",
     "text": [
      "You cannot divide by zero\n"
     ]
    }
   ],
   "source": [
    "try:\n",
    "    print(5/0)\n",
    "except Exception:\n",
    "    print('You cannot divide by zero')"
   ]
  },
  {
   "cell_type": "markdown",
   "metadata": {},
   "source": [
    "Assuming that we have some email addresses in the\n",
    "\"username@companyname.com\" format, please write program to print the\n",
    "user name of a given email address. Both user names and company\n",
    "names are composed of letters only.\n",
    "Example:\n",
    "If the following email address is given as input to the program:\n",
    "john@google.com\n",
    "Then, the output of the program should be:\n",
    "john\n",
    "In case of input data being supplied to the question, it should be\n",
    "assumed to be a console input."
   ]
  },
  {
   "cell_type": "code",
   "execution_count": 81,
   "metadata": {},
   "outputs": [
    {
     "data": {
      "text/plain": [
       "'baighasham4'"
      ]
     },
     "execution_count": 81,
     "metadata": {},
     "output_type": "execute_result"
    }
   ],
   "source": [
    "import re\n",
    "\n",
    "def name(x):\n",
    "    y = re.search(r'\\w+', x).group()\n",
    "    return y\n",
    "name('baighasham4@gmail.com')"
   ]
  },
  {
   "cell_type": "markdown",
   "metadata": {},
   "source": [
    "Write a program which accepts a sequence of words separated by\n",
    "whitespace as input to print the words composed of digits only.\n",
    "Example:\n",
    "If the following words is given as input to the program:\n",
    "2 cats and 3 dogs.\n",
    "Then, the output of the program should be:\n",
    "['2', '3']\n",
    "In case of input data being supplied to the question, it should be\n",
    "assumed to be a console input."
   ]
  },
  {
   "cell_type": "code",
   "execution_count": 99,
   "metadata": {},
   "outputs": [
    {
     "name": "stdout",
     "output_type": "stream",
     "text": [
      "enter 2 cats and 3 dogs\n",
      "['2', '3']\n"
     ]
    }
   ],
   "source": [
    "user = input('enter')\n",
    "x = re.findall(r'[0-9]', user)\n",
    "print(x)\n"
   ]
  },
  {
   "cell_type": "code",
   "execution_count": 91,
   "metadata": {},
   "outputs": [
    {
     "name": "stdout",
     "output_type": "stream",
     "text": [
      "2 3 "
     ]
    }
   ],
   "source": [
    "def digits(x):\n",
    "    for i in x:\n",
    "        if i.isdigit():\n",
    "            print(i, end=' ')\n",
    "digits('2 cats and 3 dogs')"
   ]
  },
  {
   "cell_type": "markdown",
   "metadata": {},
   "source": [
    "A website requires the users to input username and password to\n",
    "register. Write a program to check the validity of password input by\n",
    "users.\n",
    "Following are the criteria for checking the password:\n",
    "1. At least 1 letter between [a-z]\n",
    "2. At least 1 number between [0-9]\n",
    "1. At least 1 letter between [A-Z]\n",
    "3. At least 1 character from [$#@]\n",
    "4. Minimum length of transaction password: 6\n",
    "5. Maximum length of transaction password: 12\n",
    "Your program should accept a sequence of comma separated passwords\n",
    "and will check them according to the above criteria. Passwords that\n",
    "match the criteria are to be printed, each separated by a comma.\n",
    "Example\n",
    "If the following passwords are given as input to the program:\n",
    "ABd1234@1,a F1#,2w3E*,2We3345\n",
    "Then, the output of the program should be:\n",
    "ABd1234@1"
   ]
  },
  {
   "cell_type": "code",
   "execution_count": 13,
   "metadata": {},
   "outputs": [
    {
     "name": "stdout",
     "output_type": "stream",
     "text": [
      "enter passwordasdasdasdasdasd\n",
      "your password length is invalid\n"
     ]
    }
   ],
   "source": [
    "import re\n",
    "password = input('enter password')\n",
    "\n",
    "if len(password) < 6 or len(password) > 12:\n",
    "    print('your password length is invalid')\n",
    "elif re.search(r'[A-Z]', password) is None:\n",
    "    print('your password has invalid characters')\n",
    "elif re.search(r'[a-z]', password) is None:\n",
    "    print('your password has invalid characters')\n",
    "elif re.search(r'[1-9]', password) is None:\n",
    "    print('your password has invalid characters')\n",
    "elif re.search(r'\\W+', password) is None:\n",
    "    print('your password has invalid characters')\n",
    "else:\n",
    "    print('pass')"
   ]
  },
  {
   "cell_type": "markdown",
   "metadata": {},
   "source": [
    "You are required to write a program to sort the (name, age, height)\n",
    "tuples by ascending order where name is string, age and height are\n",
    "numbers. The tuples are input by console. The sort criteria is:\n",
    "1: Sort based on name;\n",
    "2: Then sort based on age;\n",
    "3: Then sort by score.\n",
    "The priority is that name > age > score.\n",
    "If the following tuples are given as input to the program:\n",
    "Tom,19,80\n",
    "John,20,90\n",
    "Jony,17,91\n",
    "Jony,17,93\n",
    "Json,21,85\n",
    "Then, the output of the program should be:\n",
    "[('John', '20', '90'), ('Jony', '17', '91'), ('Jony', '17', '93'),\n",
    "('Json', '21', '85'), ('Tom', '19', '80')]\n",
    "Hints:\n",
    "In case of input data being supplied to the question, it should be\n",
    "assumed to be a console input.\n",
    "We use itemgetter to enable multiple sort keys.\n",
    "\n",
    "#https://community.simplilearn.com/threads/python-for-ds-nimisha-june-8th-july-14th.46446/\n"
   ]
  },
  {
   "cell_type": "code",
   "execution_count": 30,
   "metadata": {},
   "outputs": [
    {
     "name": "stdout",
     "output_type": "stream",
     "text": [
      "enter the number of users1\n",
      "enter nameHasham\n",
      "enter age22\n",
      "enter score22\n",
      "enter nameHannan\n",
      "enter age23\n",
      "enter score23\n",
      "[('Hasham', 22, 22), ('Hannan', 23, 23)]\n",
      "[('Hasham', 22, 22), ('Hannan', 23, 23)]\n"
     ]
    }
   ],
   "source": [
    "x = []\n",
    "y = []\n",
    "z = []\n",
    "\n",
    "user = int(input('enter the number of users'))\n",
    "for i in range(user+1):\n",
    "    name = input('enter name')\n",
    "    age = int(input('enter age'))\n",
    "    score = int(input('enter score'))\n",
    "    x.append(name)\n",
    "    y.append(age)\n",
    "    z.append(score)\n",
    "    \n",
    "\n",
    "def merge(x,y,z):\n",
    "      \n",
    "    merged_list = list(zip(x,y,z))  \n",
    "    return merged_list\n",
    "\n",
    "lst = merge(x,y,z)\n",
    "print(lst)\n",
    "\n",
    "from operator import itemgetter\n",
    "\n",
    "lst.sort(key = itemgetter(1))\n",
    "print(lst)\n"
   ]
  },
  {
   "cell_type": "code",
   "execution_count": 11,
   "metadata": {},
   "outputs": [
    {
     "name": "stdout",
     "output_type": "stream",
     "text": [
      "[('John', 20, 90), ('Jony', 17, 91), ('Jony', 17, 93), ('Json', 21, 85), ('Tom', 19, 80)]\n",
      "[('Jony', 17, 91), ('Jony', 17, 93), ('Tom', 19, 80), ('John', 20, 90), ('Json', 21, 85)]\n",
      "[('Tom', 19, 80), ('Json', 21, 85), ('John', 20, 90), ('Jony', 17, 91), ('Jony', 17, 93)]\n"
     ]
    }
   ],
   "source": [
    "from operator import itemgetter\n",
    "x = [('Tom',19,80), ('John',20,90), ('Jony',17,91), ('Jony',17,93), ('Json',21,85)]\n",
    "x.sort(key = itemgetter(0))\n",
    "print(x)\n",
    "\n",
    "x = [('Tom',19,80), ('John',20,90), ('Jony',17,91), ('Jony',17,93), ('Json',21,85)]\n",
    "x.sort(key = itemgetter(1))\n",
    "print(x)\n",
    "\n",
    "x = [('Tom',19,80), ('John',20,90), ('Jony',17,91), ('Jony',17,93), ('Json',21,85)]\n",
    "x.sort(key = itemgetter(2))\n",
    "print(x)"
   ]
  },
  {
   "cell_type": "code",
   "execution_count": 15,
   "metadata": {},
   "outputs": [
    {
     "name": "stdout",
     "output_type": "stream",
     "text": [
      "3\n",
      "[3]\n"
     ]
    }
   ],
   "source": [
    "x = []\n",
    "y = int(input(''))\n",
    "x.append(y)\n",
    "print(x)"
   ]
  },
  {
   "cell_type": "markdown",
   "metadata": {},
   "source": [
    "Define a class with a generator which can iterate the numbers, which are divisible by 7, between a given range 0 and n. Hints: Consider use yield\n"
   ]
  },
  {
   "cell_type": "code",
   "execution_count": 35,
   "metadata": {},
   "outputs": [
    {
     "name": "stdout",
     "output_type": "stream",
     "text": [
      "0\n",
      "7\n",
      "14\n"
     ]
    }
   ],
   "source": [
    "def func(n):\n",
    "    for i in range(0,n+1):\n",
    "        if i%7 == 0:\n",
    "            yield i\n",
    "x = func(100)\n",
    "print(x.__next__())\n",
    "print(x.__next__())\n",
    "print(x.__next__())"
   ]
  },
  {
   "cell_type": "markdown",
   "metadata": {},
   "source": [
    "A robot moves in a plane starting from the original point (0,0). The robot can move toward UP, DOWN, LEFT and RIGHT with a given steps. The trace of robot movement is shown as the following:\n",
    "\n",
    "UP 5 \n",
    "DOWN 3\n",
    "LEFT 3\n",
    "RIGHT 2\n",
    "\n",
    "The numbers after the direction are steps. Please write a program to compute the distance from current position after a sequence of movement and original point. If the distance is a float, then just print the nearest integer.\n",
    "\n",
    "Example:\n",
    "If the following tuples are given as input to the program: UP 5 DOWN 3 LEFT 3 RIGHT 2 Then, the output of the program should be: 2 \n",
    "Hints:\n",
    "In case of input data being supplied to the question, it should be assumed to be a console input.\n"
   ]
  },
  {
   "cell_type": "code",
   "execution_count": 10,
   "metadata": {},
   "outputs": [
    {
     "name": "stdout",
     "output_type": "stream",
     "text": [
      "Final Position: ( 0 ,  0 )\n"
     ]
    }
   ],
   "source": [
    "def finalPosition(move): \n",
    "  \n",
    "    l = len(move); \n",
    "    countUp, countDown = 0, 0; \n",
    "    countLeft, countRight = 0, 0; \n",
    "  \n",
    "    for i in range(l): \n",
    "   \n",
    "        if (move[i] == 'U'): \n",
    "            countUp += 1; \n",
    "  \n",
    "        elif(move[i] == 'D'): \n",
    "            countDown += 1; \n",
    "  \n",
    "        elif(move[i] == 'L'): \n",
    "            countLeft += 1; \n",
    "  \n",
    "        elif(move[i] == 'R'): \n",
    "            countRight += 1; \n",
    "            \n",
    "    print(\"Final Position: (\", (countRight - countLeft), \n",
    "            \", \" , (countUp - countDown), \")\")\n",
    "    \n",
    "finalPosition(\"UDRL\")"
   ]
  },
  {
   "cell_type": "code",
   "execution_count": 24,
   "metadata": {},
   "outputs": [
    {
     "name": "stdout",
     "output_type": "stream",
     "text": [
      "enter U for UP movement, D for Down movement, R for Right movement and L for left movementUDRL\n",
      "The robot moved 0 spaces NO SPACES UP OR DOWN and 0 spaces NO SPACES RIGHT OR LEFT\n"
     ]
    }
   ],
   "source": [
    "move = input('enter U for UP movement, D for Down movement, R for Right movement and L for left movement')\n",
    "pos1 = 0\n",
    "pos2 = 0\n",
    "for i in move.upper():\n",
    "    if i == 'U':\n",
    "        pos1 += 1\n",
    "    elif i == 'D':\n",
    "        pos1 -= 1\n",
    "    elif i == 'R':\n",
    "        pos2 += 1\n",
    "    elif i == 'L':\n",
    "        pos2 -= 1\n",
    "        \n",
    "if pos1 > 0:\n",
    "    x = 'UP'\n",
    "if pos1 < 0:\n",
    "    x = 'DOWN'\n",
    "if pos2 > 0:\n",
    "    y = 'RIGHT'\n",
    "if pos2 < 0:\n",
    "    y = LEFT\n",
    "if pos1 == 0:\n",
    "    x = 'NO SPACES UP OR DOWN'\n",
    "if pos2 == 0:\n",
    "    y = 'NO SPACES RIGHT OR LEFT'\n",
    "\n",
    "print('The robot moved', pos1, 'spaces', x, 'and', pos2, 'spaces', y)\n",
    "                "
   ]
  },
  {
   "cell_type": "markdown",
   "metadata": {},
   "source": [
    "Write a program to compute the frequency of the words from the input. The output should output after sorting the key alphanumerically.\n",
    "\n",
    "Suppose the following input is supplied to the program:\n",
    "\n",
    "New to Python or choosing between Python 2 and Python 3? \n",
    "Read Python 2 or Python 3.\n",
    "\n",
    "Then, the output should be:\n",
    "\n",
    "2:2\n",
    "3.:1\n",
    "3?:1\n",
    "New:1\n",
    "Python:5\n",
    "Read:1\n",
    "and:1\n",
    "between:1\n",
    "choosing:1\n",
    "or:2\n",
    "to:1\n",
    "\n",
    "Hints:\n",
    "In case of input data being supplied to the question, it should be\n",
    "assumed to be a console input."
   ]
  },
  {
   "cell_type": "code",
   "execution_count": 26,
   "metadata": {},
   "outputs": [
    {
     "name": "stdout",
     "output_type": "stream",
     "text": [
      "enter the string whose alphabets are to be countedNew to Python or choosing between Python 2 and Python 3?  Read Python 2 or Python 3.\n",
      "{'New': 1, 'to': 1, 'Python': 5, 'or': 2, 'choosing': 1, 'between': 1, '2': 2, 'and': 1, '3?': 1, 'Read': 1, '3.': 1}\n"
     ]
    }
   ],
   "source": [
    "user = input('enter the string whose alphabets are to be counted')\n",
    "user = user.split( )\n",
    "dictionary = {}\n",
    "\n",
    "for i in user:\n",
    "    dictionary[i] = user.count(i)\n",
    "print(dictionary)"
   ]
  },
  {
   "cell_type": "code",
   "execution_count": null,
   "metadata": {},
   "outputs": [],
   "source": [
    "def count(x):\n",
    "    for i in x:\n",
    "        \n",
    "        "
   ]
  }
 ],
 "metadata": {
  "kernelspec": {
   "display_name": "Python 3",
   "language": "python",
   "name": "python3"
  },
  "language_info": {
   "codemirror_mode": {
    "name": "ipython",
    "version": 3
   },
   "file_extension": ".py",
   "mimetype": "text/x-python",
   "name": "python",
   "nbconvert_exporter": "python",
   "pygments_lexer": "ipython3",
   "version": "3.7.4"
  }
 },
 "nbformat": 4,
 "nbformat_minor": 2
}
